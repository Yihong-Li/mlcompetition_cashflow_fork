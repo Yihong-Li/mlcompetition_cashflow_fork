{
 "cells": [
  {
   "cell_type": "markdown",
   "id": "c39d5981",
   "metadata": {},
   "source": [
    "# Baseline Model Notebook"
   ]
  },
  {
   "cell_type": "markdown",
   "id": "a24832c6",
   "metadata": {},
   "source": [
    "## Unzip the file\n"
   ]
  },
  {
   "cell_type": "code",
   "execution_count": 2,
   "id": "2ce087a6",
   "metadata": {},
   "outputs": [],
   "source": [
    "import zipfile\n",
    "import os\n",
    "zip_file_path = 'cashflow_data.zip'\n",
    "extract_path = os.path.dirname(zip_file_path)\n",
    "with zipfile.ZipFile(zip_file_path, 'r') as zip_ref:\n",
    "    zip_ref.extractall(os.path.dirname(zip_file_path))"
   ]
  },
  {
   "cell_type": "markdown",
   "id": "3cddaacc-b790-49ab-baa6-dcd9864c3919",
   "metadata": {},
   "source": [
    "## Import the datasets and delete the unziped folder"
   ]
  },
  {
   "cell_type": "code",
   "execution_count": 5,
   "id": "915d78f3-a3f3-44d8-9901-ea91d67a812c",
   "metadata": {
    "scrolled": true
   },
   "outputs": [
    {
     "ename": "KeyboardInterrupt",
     "evalue": "",
     "output_type": "error",
     "traceback": [
      "\u001b[0;31m---------------------------------------------------------------------------\u001b[0m",
      "\u001b[0;31mKeyboardInterrupt\u001b[0m                         Traceback (most recent call last)",
      "\u001b[0;32m/var/folders/jc/kq3jtycs5yndcqlkj87_d8zm0000gn/T/ipykernel_41729/4156959487.py\u001b[0m in \u001b[0;36m<module>\u001b[0;34m\u001b[0m\n\u001b[1;32m      4\u001b[0m \u001b[0;32mimport\u001b[0m \u001b[0mos\u001b[0m\u001b[0;34m\u001b[0m\u001b[0;34m\u001b[0m\u001b[0m\n\u001b[1;32m      5\u001b[0m \u001b[0mconsumers\u001b[0m \u001b[0;34m=\u001b[0m \u001b[0mpd\u001b[0m\u001b[0;34m.\u001b[0m\u001b[0mread_parquet\u001b[0m\u001b[0;34m(\u001b[0m\u001b[0;34m\"cashflow/consumer_data.parquet\"\u001b[0m\u001b[0;34m)\u001b[0m\u001b[0;34m\u001b[0m\u001b[0;34m\u001b[0m\u001b[0m\n\u001b[0;32m----> 6\u001b[0;31m \u001b[0mtransactions\u001b[0m \u001b[0;34m=\u001b[0m \u001b[0mpd\u001b[0m\u001b[0;34m.\u001b[0m\u001b[0mread_parquet\u001b[0m\u001b[0;34m(\u001b[0m\u001b[0;34m'cashflow/transactions.parquet'\u001b[0m\u001b[0;34m)\u001b[0m\u001b[0;34m\u001b[0m\u001b[0;34m\u001b[0m\u001b[0m\n\u001b[0m\u001b[1;32m      7\u001b[0m \u001b[0mcategories\u001b[0m \u001b[0;34m=\u001b[0m \u001b[0mpd\u001b[0m\u001b[0;34m.\u001b[0m\u001b[0mread_csv\u001b[0m\u001b[0;34m(\u001b[0m\u001b[0;34m'transaction_categories.csv'\u001b[0m\u001b[0;34m)\u001b[0m\u001b[0;34m\u001b[0m\u001b[0;34m\u001b[0m\u001b[0m\n\u001b[1;32m      8\u001b[0m \u001b[0mos\u001b[0m\u001b[0;34m.\u001b[0m\u001b[0mrmdir\u001b[0m\u001b[0;34m(\u001b[0m\u001b[0mos\u001b[0m\u001b[0;34m.\u001b[0m\u001b[0mpath\u001b[0m\u001b[0;34m.\u001b[0m\u001b[0mdirname\u001b[0m\u001b[0;34m(\u001b[0m\u001b[0mzip_file_path\u001b[0m\u001b[0;34m)\u001b[0m \u001b[0;34m+\u001b[0m \u001b[0;34m'/cashflow'\u001b[0m\u001b[0;34m)\u001b[0m\u001b[0;34m\u001b[0m\u001b[0;34m\u001b[0m\u001b[0m\n",
      "\u001b[0;32m~/opt/anaconda3/lib/python3.9/site-packages/pandas/io/parquet.py\u001b[0m in \u001b[0;36mread_parquet\u001b[0;34m(path, engine, columns, storage_options, use_nullable_dtypes, **kwargs)\u001b[0m\n\u001b[1;32m    491\u001b[0m     \u001b[0mimpl\u001b[0m \u001b[0;34m=\u001b[0m \u001b[0mget_engine\u001b[0m\u001b[0;34m(\u001b[0m\u001b[0mengine\u001b[0m\u001b[0;34m)\u001b[0m\u001b[0;34m\u001b[0m\u001b[0;34m\u001b[0m\u001b[0m\n\u001b[1;32m    492\u001b[0m \u001b[0;34m\u001b[0m\u001b[0m\n\u001b[0;32m--> 493\u001b[0;31m     return impl.read(\n\u001b[0m\u001b[1;32m    494\u001b[0m         \u001b[0mpath\u001b[0m\u001b[0;34m,\u001b[0m\u001b[0;34m\u001b[0m\u001b[0;34m\u001b[0m\u001b[0m\n\u001b[1;32m    495\u001b[0m         \u001b[0mcolumns\u001b[0m\u001b[0;34m=\u001b[0m\u001b[0mcolumns\u001b[0m\u001b[0;34m,\u001b[0m\u001b[0;34m\u001b[0m\u001b[0;34m\u001b[0m\u001b[0m\n",
      "\u001b[0;32m~/opt/anaconda3/lib/python3.9/site-packages/pandas/io/parquet.py\u001b[0m in \u001b[0;36mread\u001b[0;34m(self, path, columns, use_nullable_dtypes, storage_options, **kwargs)\u001b[0m\n\u001b[1;32m    238\u001b[0m         )\n\u001b[1;32m    239\u001b[0m         \u001b[0;32mtry\u001b[0m\u001b[0;34m:\u001b[0m\u001b[0;34m\u001b[0m\u001b[0;34m\u001b[0m\u001b[0m\n\u001b[0;32m--> 240\u001b[0;31m             result = self.api.parquet.read_table(\n\u001b[0m\u001b[1;32m    241\u001b[0m                 \u001b[0mpath_or_handle\u001b[0m\u001b[0;34m,\u001b[0m \u001b[0mcolumns\u001b[0m\u001b[0;34m=\u001b[0m\u001b[0mcolumns\u001b[0m\u001b[0;34m,\u001b[0m \u001b[0;34m**\u001b[0m\u001b[0mkwargs\u001b[0m\u001b[0;34m\u001b[0m\u001b[0;34m\u001b[0m\u001b[0m\n\u001b[1;32m    242\u001b[0m             ).to_pandas(**to_pandas_kwargs)\n",
      "\u001b[0;32m~/opt/anaconda3/lib/python3.9/site-packages/pyarrow/array.pxi\u001b[0m in \u001b[0;36mpyarrow.lib._PandasConvertible.to_pandas\u001b[0;34m()\u001b[0m\n",
      "\u001b[0;32m~/opt/anaconda3/lib/python3.9/site-packages/pyarrow/table.pxi\u001b[0m in \u001b[0;36mpyarrow.lib.Table._to_pandas\u001b[0;34m()\u001b[0m\n",
      "\u001b[0;32m~/opt/anaconda3/lib/python3.9/site-packages/pyarrow/pandas_compat.py\u001b[0m in \u001b[0;36mtable_to_dataframe\u001b[0;34m(options, table, categories, ignore_metadata, types_mapper)\u001b[0m\n\u001b[1;32m    775\u001b[0m     \u001b[0m_check_data_column_metadata_consistency\u001b[0m\u001b[0;34m(\u001b[0m\u001b[0mall_columns\u001b[0m\u001b[0;34m)\u001b[0m\u001b[0;34m\u001b[0m\u001b[0;34m\u001b[0m\u001b[0m\n\u001b[1;32m    776\u001b[0m     \u001b[0mcolumns\u001b[0m \u001b[0;34m=\u001b[0m \u001b[0m_deserialize_column_index\u001b[0m\u001b[0;34m(\u001b[0m\u001b[0mtable\u001b[0m\u001b[0;34m,\u001b[0m \u001b[0mall_columns\u001b[0m\u001b[0;34m,\u001b[0m \u001b[0mcolumn_indexes\u001b[0m\u001b[0;34m)\u001b[0m\u001b[0;34m\u001b[0m\u001b[0;34m\u001b[0m\u001b[0m\n\u001b[0;32m--> 777\u001b[0;31m     \u001b[0mblocks\u001b[0m \u001b[0;34m=\u001b[0m \u001b[0m_table_to_blocks\u001b[0m\u001b[0;34m(\u001b[0m\u001b[0moptions\u001b[0m\u001b[0;34m,\u001b[0m \u001b[0mtable\u001b[0m\u001b[0;34m,\u001b[0m \u001b[0mcategories\u001b[0m\u001b[0;34m,\u001b[0m \u001b[0mext_columns_dtypes\u001b[0m\u001b[0;34m)\u001b[0m\u001b[0;34m\u001b[0m\u001b[0;34m\u001b[0m\u001b[0m\n\u001b[0m\u001b[1;32m    778\u001b[0m \u001b[0;34m\u001b[0m\u001b[0m\n\u001b[1;32m    779\u001b[0m     \u001b[0maxes\u001b[0m \u001b[0;34m=\u001b[0m \u001b[0;34m[\u001b[0m\u001b[0mcolumns\u001b[0m\u001b[0;34m,\u001b[0m \u001b[0mindex\u001b[0m\u001b[0;34m]\u001b[0m\u001b[0;34m\u001b[0m\u001b[0;34m\u001b[0m\u001b[0m\n",
      "\u001b[0;32m~/opt/anaconda3/lib/python3.9/site-packages/pyarrow/pandas_compat.py\u001b[0m in \u001b[0;36m_table_to_blocks\u001b[0;34m(options, block_table, categories, extension_columns)\u001b[0m\n\u001b[1;32m   1129\u001b[0m     \u001b[0;31m# Convert an arrow table to Block from the internal pandas API\u001b[0m\u001b[0;34m\u001b[0m\u001b[0;34m\u001b[0m\u001b[0m\n\u001b[1;32m   1130\u001b[0m     \u001b[0mcolumns\u001b[0m \u001b[0;34m=\u001b[0m \u001b[0mblock_table\u001b[0m\u001b[0;34m.\u001b[0m\u001b[0mcolumn_names\u001b[0m\u001b[0;34m\u001b[0m\u001b[0;34m\u001b[0m\u001b[0m\n\u001b[0;32m-> 1131\u001b[0;31m     result = pa.lib.table_to_blocks(options, block_table, categories,\n\u001b[0m\u001b[1;32m   1132\u001b[0m                                     list(extension_columns.keys()))\n\u001b[1;32m   1133\u001b[0m     return [_reconstruct_block(item, columns, extension_columns)\n",
      "\u001b[0;31mKeyboardInterrupt\u001b[0m: "
     ]
    }
   ],
   "source": [
    "import numpy as np\n",
    "import matplotlib.pyplot as plt\n",
    "import pandas as pd\n",
    "import os\n",
    "consumers = pd.read_parquet(\"cashflow/consumer_data.parquet\")\n",
    "transactions = pd.read_parquet('cashflow/transactions.parquet')\n",
    "categories = pd.read_csv('transaction_categories.csv')\n"
   ]
  },
  {
   "cell_type": "code",
   "execution_count": null,
   "id": "ca7ad29d",
   "metadata": {},
   "outputs": [],
   "source": [
    "import shutil\n"
   ]
  },
  {
   "cell_type": "code",
   "execution_count": 7,
   "id": "16b45529",
   "metadata": {},
   "outputs": [
    {
     "data": {
      "text/plain": [
       "''"
      ]
     },
     "execution_count": 7,
     "metadata": {},
     "output_type": "execute_result"
    }
   ],
   "source": [
    "os.path.dirname(zip_file_path)"
   ]
  },
  {
   "cell_type": "code",
   "execution_count": 8,
   "id": "61510a66",
   "metadata": {},
   "outputs": [
    {
     "ename": "OSError",
     "evalue": "[Errno 66] Directory not empty: 'cashflow'",
     "output_type": "error",
     "traceback": [
      "\u001b[0;31m---------------------------------------------------------------------------\u001b[0m",
      "\u001b[0;31mOSError\u001b[0m                                   Traceback (most recent call last)",
      "\u001b[0;32m/var/folders/jc/kq3jtycs5yndcqlkj87_d8zm0000gn/T/ipykernel_41729/1623956779.py\u001b[0m in \u001b[0;36m<module>\u001b[0;34m\u001b[0m\n\u001b[0;32m----> 1\u001b[0;31m \u001b[0mos\u001b[0m\u001b[0;34m.\u001b[0m\u001b[0mrmdir\u001b[0m\u001b[0;34m(\u001b[0m\u001b[0;34m'cashflow'\u001b[0m\u001b[0;34m)\u001b[0m\u001b[0;34m\u001b[0m\u001b[0;34m\u001b[0m\u001b[0m\n\u001b[0m",
      "\u001b[0;31mOSError\u001b[0m: [Errno 66] Directory not empty: 'cashflow'"
     ]
    }
   ],
   "source": [
    "os.rmdir('cashflow')"
   ]
  },
  {
   "cell_type": "code",
   "execution_count": 30,
   "id": "d48d069e-f4a5-4ef3-9301-1dfa4f6ab83b",
   "metadata": {},
   "outputs": [
    {
     "data": {
      "text/html": [
       "<div>\n",
       "<style scoped>\n",
       "    .dataframe tbody tr th:only-of-type {\n",
       "        vertical-align: middle;\n",
       "    }\n",
       "\n",
       "    .dataframe tbody tr th {\n",
       "        vertical-align: top;\n",
       "    }\n",
       "\n",
       "    .dataframe thead th {\n",
       "        text-align: right;\n",
       "    }\n",
       "</style>\n",
       "<table border=\"1\" class=\"dataframe\">\n",
       "  <thead>\n",
       "    <tr style=\"text-align: right;\">\n",
       "      <th></th>\n",
       "      <th>evaluation_date</th>\n",
       "      <th>FPF_TARGET</th>\n",
       "      <th>total_balance</th>\n",
       "      <th>masked_consumer_id</th>\n",
       "    </tr>\n",
       "  </thead>\n",
       "  <tbody>\n",
       "    <tr>\n",
       "      <th>0</th>\n",
       "      <td>2021-08-26</td>\n",
       "      <td>0.0</td>\n",
       "      <td>1380.84</td>\n",
       "      <td>C01100001</td>\n",
       "    </tr>\n",
       "    <tr>\n",
       "      <th>1</th>\n",
       "      <td>2022-08-02</td>\n",
       "      <td>0.0</td>\n",
       "      <td>20163.90</td>\n",
       "      <td>C01100002</td>\n",
       "    </tr>\n",
       "    <tr>\n",
       "      <th>2</th>\n",
       "      <td>2021-03-04</td>\n",
       "      <td>0.0</td>\n",
       "      <td>3986.25</td>\n",
       "      <td>C01100003</td>\n",
       "    </tr>\n",
       "    <tr>\n",
       "      <th>3</th>\n",
       "      <td>2022-11-19</td>\n",
       "      <td>0.0</td>\n",
       "      <td>5956.03</td>\n",
       "      <td>C01100004</td>\n",
       "    </tr>\n",
       "    <tr>\n",
       "      <th>4</th>\n",
       "      <td>2021-11-21</td>\n",
       "      <td>0.0</td>\n",
       "      <td>29421.10</td>\n",
       "      <td>C01100005</td>\n",
       "    </tr>\n",
       "  </tbody>\n",
       "</table>\n",
       "</div>"
      ],
      "text/plain": [
       "  evaluation_date  FPF_TARGET  total_balance masked_consumer_id\n",
       "0      2021-08-26         0.0        1380.84          C01100001\n",
       "1      2022-08-02         0.0       20163.90          C01100002\n",
       "2      2021-03-04         0.0        3986.25          C01100003\n",
       "3      2022-11-19         0.0        5956.03          C01100004\n",
       "4      2021-11-21         0.0       29421.10          C01100005"
      ]
     },
     "execution_count": 30,
     "metadata": {},
     "output_type": "execute_result"
    }
   ],
   "source": [
    "consumers.head()"
   ]
  },
  {
   "cell_type": "markdown",
   "id": "2e7c0a1e-1d18-4636-81b9-7a74534ad2bb",
   "metadata": {},
   "source": [
    "16000 unique consumers"
   ]
  },
  {
   "cell_type": "code",
   "execution_count": 31,
   "id": "c17e7936-1f98-4b2f-8e2d-1312ab7e03bb",
   "metadata": {},
   "outputs": [
    {
     "data": {
      "text/plain": [
       "(16000,)"
      ]
     },
     "execution_count": 31,
     "metadata": {},
     "output_type": "execute_result"
    }
   ],
   "source": [
    "consumers['masked_consumer_id'].unique().shape"
   ]
  },
  {
   "cell_type": "code",
   "execution_count": 32,
   "id": "d3489c3e-7f54-4f09-b5e7-3eb41ed0bfa4",
   "metadata": {},
   "outputs": [
    {
     "data": {
      "text/plain": [
       "(16000, 4)"
      ]
     },
     "execution_count": 32,
     "metadata": {},
     "output_type": "execute_result"
    }
   ],
   "source": [
    "consumers.shape"
   ]
  },
  {
   "cell_type": "code",
   "execution_count": 33,
   "id": "84897b77-181c-499f-bf2a-ba14dc5dae5c",
   "metadata": {},
   "outputs": [
    {
     "data": {
      "text/plain": [
       "(17738083, 5)"
      ]
     },
     "execution_count": 33,
     "metadata": {},
     "output_type": "execute_result"
    }
   ],
   "source": [
    "transactions.shape"
   ]
  },
  {
   "cell_type": "code",
   "execution_count": 34,
   "id": "d6406f97-9d7e-431c-bd8d-4879dadb69d6",
   "metadata": {},
   "outputs": [
    {
     "data": {
      "text/html": [
       "<div>\n",
       "<style scoped>\n",
       "    .dataframe tbody tr th:only-of-type {\n",
       "        vertical-align: middle;\n",
       "    }\n",
       "\n",
       "    .dataframe tbody tr th {\n",
       "        vertical-align: top;\n",
       "    }\n",
       "\n",
       "    .dataframe thead th {\n",
       "        text-align: right;\n",
       "    }\n",
       "</style>\n",
       "<table border=\"1\" class=\"dataframe\">\n",
       "  <thead>\n",
       "    <tr style=\"text-align: right;\">\n",
       "      <th></th>\n",
       "      <th>masked_consumer_id</th>\n",
       "      <th>posted_date</th>\n",
       "      <th>amount</th>\n",
       "      <th>category</th>\n",
       "      <th>masked_transaction_id</th>\n",
       "    </tr>\n",
       "  </thead>\n",
       "  <tbody>\n",
       "    <tr>\n",
       "      <th>2715977</th>\n",
       "      <td>C02103629</td>\n",
       "      <td>2022-08-12</td>\n",
       "      <td>-21.00</td>\n",
       "      <td>27.0</td>\n",
       "      <td>C02T02715977</td>\n",
       "    </tr>\n",
       "    <tr>\n",
       "      <th>2715978</th>\n",
       "      <td>C02103629</td>\n",
       "      <td>2022-08-09</td>\n",
       "      <td>-8.60</td>\n",
       "      <td>22.0</td>\n",
       "      <td>C02T02715978</td>\n",
       "    </tr>\n",
       "    <tr>\n",
       "      <th>2715979</th>\n",
       "      <td>C02103629</td>\n",
       "      <td>2022-08-07</td>\n",
       "      <td>-30.05</td>\n",
       "      <td>16.0</td>\n",
       "      <td>C02T02715979</td>\n",
       "    </tr>\n",
       "    <tr>\n",
       "      <th>2715980</th>\n",
       "      <td>C02103629</td>\n",
       "      <td>2022-09-29</td>\n",
       "      <td>-0.46</td>\n",
       "      <td>0.0</td>\n",
       "      <td>C02T02715980</td>\n",
       "    </tr>\n",
       "    <tr>\n",
       "      <th>2715981</th>\n",
       "      <td>C02103629</td>\n",
       "      <td>2022-07-21</td>\n",
       "      <td>-50.00</td>\n",
       "      <td>12.0</td>\n",
       "      <td>C02T02715981</td>\n",
       "    </tr>\n",
       "  </tbody>\n",
       "</table>\n",
       "</div>"
      ],
      "text/plain": [
       "        masked_consumer_id posted_date  amount  category masked_transaction_id\n",
       "2715977          C02103629  2022-08-12  -21.00      27.0          C02T02715977\n",
       "2715978          C02103629  2022-08-09   -8.60      22.0          C02T02715978\n",
       "2715979          C02103629  2022-08-07  -30.05      16.0          C02T02715979\n",
       "2715980          C02103629  2022-09-29   -0.46       0.0          C02T02715980\n",
       "2715981          C02103629  2022-07-21  -50.00      12.0          C02T02715981"
      ]
     },
     "execution_count": 34,
     "metadata": {},
     "output_type": "execute_result"
    }
   ],
   "source": [
    "transactions.head()"
   ]
  },
  {
   "cell_type": "code",
   "execution_count": 35,
   "id": "17a05fad-d2b4-4b64-96d7-52d7794f9aee",
   "metadata": {},
   "outputs": [
    {
     "data": {
      "text/html": [
       "<div>\n",
       "<style scoped>\n",
       "    .dataframe tbody tr th:only-of-type {\n",
       "        vertical-align: middle;\n",
       "    }\n",
       "\n",
       "    .dataframe tbody tr th {\n",
       "        vertical-align: top;\n",
       "    }\n",
       "\n",
       "    .dataframe thead th {\n",
       "        text-align: right;\n",
       "    }\n",
       "</style>\n",
       "<table border=\"1\" class=\"dataframe\">\n",
       "  <thead>\n",
       "    <tr style=\"text-align: right;\">\n",
       "      <th></th>\n",
       "      <th>code</th>\n",
       "      <th>description</th>\n",
       "    </tr>\n",
       "  </thead>\n",
       "  <tbody>\n",
       "    <tr>\n",
       "      <th>0</th>\n",
       "      <td>0</td>\n",
       "      <td>SELF_TRANSFER</td>\n",
       "    </tr>\n",
       "    <tr>\n",
       "      <th>1</th>\n",
       "      <td>1</td>\n",
       "      <td>EXTERNAL_TRANSFER</td>\n",
       "    </tr>\n",
       "    <tr>\n",
       "      <th>2</th>\n",
       "      <td>2</td>\n",
       "      <td>DEPOSIT</td>\n",
       "    </tr>\n",
       "    <tr>\n",
       "      <th>3</th>\n",
       "      <td>3</td>\n",
       "      <td>PAYCHECK</td>\n",
       "    </tr>\n",
       "    <tr>\n",
       "      <th>4</th>\n",
       "      <td>4</td>\n",
       "      <td>MISCELLANEOUS</td>\n",
       "    </tr>\n",
       "  </tbody>\n",
       "</table>\n",
       "</div>"
      ],
      "text/plain": [
       "   code        description\n",
       "0     0      SELF_TRANSFER\n",
       "1     1  EXTERNAL_TRANSFER\n",
       "2     2            DEPOSIT\n",
       "3     3           PAYCHECK\n",
       "4     4      MISCELLANEOUS"
      ]
     },
     "execution_count": 35,
     "metadata": {},
     "output_type": "execute_result"
    }
   ],
   "source": [
    "categories.head()"
   ]
  },
  {
   "cell_type": "code",
   "execution_count": 36,
   "id": "fb0dffe3-3e88-4ba8-b73a-196c1b68f225",
   "metadata": {},
   "outputs": [
    {
     "data": {
      "text/html": [
       "<div>\n",
       "<style scoped>\n",
       "    .dataframe tbody tr th:only-of-type {\n",
       "        vertical-align: middle;\n",
       "    }\n",
       "\n",
       "    .dataframe tbody tr th {\n",
       "        vertical-align: top;\n",
       "    }\n",
       "\n",
       "    .dataframe thead th {\n",
       "        text-align: right;\n",
       "    }\n",
       "</style>\n",
       "<table border=\"1\" class=\"dataframe\">\n",
       "  <thead>\n",
       "    <tr style=\"text-align: right;\">\n",
       "      <th></th>\n",
       "      <th>masked_consumer_id</th>\n",
       "      <th>posted_date</th>\n",
       "      <th>amount</th>\n",
       "      <th>category</th>\n",
       "      <th>masked_transaction_id</th>\n",
       "      <th>code</th>\n",
       "      <th>description</th>\n",
       "      <th>evaluation_date</th>\n",
       "      <th>FPF_TARGET</th>\n",
       "      <th>total_balance</th>\n",
       "    </tr>\n",
       "  </thead>\n",
       "  <tbody>\n",
       "    <tr>\n",
       "      <th>0</th>\n",
       "      <td>C02103629</td>\n",
       "      <td>2022-08-12</td>\n",
       "      <td>-21.00</td>\n",
       "      <td>27.0</td>\n",
       "      <td>C02T02715977</td>\n",
       "      <td>27.0</td>\n",
       "      <td>HEALTHCARE_MEDICAL</td>\n",
       "      <td>2022-11-16</td>\n",
       "      <td>1.0</td>\n",
       "      <td>109.53</td>\n",
       "    </tr>\n",
       "    <tr>\n",
       "      <th>1</th>\n",
       "      <td>C02103629</td>\n",
       "      <td>2022-08-09</td>\n",
       "      <td>-8.60</td>\n",
       "      <td>22.0</td>\n",
       "      <td>C02T02715978</td>\n",
       "      <td>22.0</td>\n",
       "      <td>ESSENTIAL_SERVICES</td>\n",
       "      <td>2022-11-16</td>\n",
       "      <td>1.0</td>\n",
       "      <td>109.53</td>\n",
       "    </tr>\n",
       "    <tr>\n",
       "      <th>2</th>\n",
       "      <td>C02103629</td>\n",
       "      <td>2022-08-07</td>\n",
       "      <td>-30.05</td>\n",
       "      <td>16.0</td>\n",
       "      <td>C02T02715979</td>\n",
       "      <td>16.0</td>\n",
       "      <td>GENERAL_MERCHANDISE</td>\n",
       "      <td>2022-11-16</td>\n",
       "      <td>1.0</td>\n",
       "      <td>109.53</td>\n",
       "    </tr>\n",
       "    <tr>\n",
       "      <th>3</th>\n",
       "      <td>C02103629</td>\n",
       "      <td>2022-09-29</td>\n",
       "      <td>-0.46</td>\n",
       "      <td>0.0</td>\n",
       "      <td>C02T02715980</td>\n",
       "      <td>0.0</td>\n",
       "      <td>SELF_TRANSFER</td>\n",
       "      <td>2022-11-16</td>\n",
       "      <td>1.0</td>\n",
       "      <td>109.53</td>\n",
       "    </tr>\n",
       "    <tr>\n",
       "      <th>4</th>\n",
       "      <td>C02103629</td>\n",
       "      <td>2022-07-21</td>\n",
       "      <td>-50.00</td>\n",
       "      <td>12.0</td>\n",
       "      <td>C02T02715981</td>\n",
       "      <td>12.0</td>\n",
       "      <td>LOAN</td>\n",
       "      <td>2022-11-16</td>\n",
       "      <td>1.0</td>\n",
       "      <td>109.53</td>\n",
       "    </tr>\n",
       "  </tbody>\n",
       "</table>\n",
       "</div>"
      ],
      "text/plain": [
       "  masked_consumer_id posted_date  amount  category masked_transaction_id  \\\n",
       "0          C02103629  2022-08-12  -21.00      27.0          C02T02715977   \n",
       "1          C02103629  2022-08-09   -8.60      22.0          C02T02715978   \n",
       "2          C02103629  2022-08-07  -30.05      16.0          C02T02715979   \n",
       "3          C02103629  2022-09-29   -0.46       0.0          C02T02715980   \n",
       "4          C02103629  2022-07-21  -50.00      12.0          C02T02715981   \n",
       "\n",
       "   code          description evaluation_date  FPF_TARGET  total_balance  \n",
       "0  27.0   HEALTHCARE_MEDICAL      2022-11-16         1.0         109.53  \n",
       "1  22.0   ESSENTIAL_SERVICES      2022-11-16         1.0         109.53  \n",
       "2  16.0  GENERAL_MERCHANDISE      2022-11-16         1.0         109.53  \n",
       "3   0.0        SELF_TRANSFER      2022-11-16         1.0         109.53  \n",
       "4  12.0                 LOAN      2022-11-16         1.0         109.53  "
      ]
     },
     "execution_count": 36,
     "metadata": {},
     "output_type": "execute_result"
    }
   ],
   "source": [
    "# Merging dataframes\n",
    "merged_df = pd.merge(transactions, categories, left_on='category', right_on='code', how='left')\n",
    "merged_df = pd.merge(merged_df, consumers, left_on='masked_consumer_id', right_on='masked_consumer_id', how='left')\n",
    "\n",
    "# Display the first few rows of the merged dataframe\n",
    "merged_df.head()"
   ]
  },
  {
   "cell_type": "code",
   "execution_count": 38,
   "id": "820425bb-ef65-4f8b-b70b-dd628a61096e",
   "metadata": {},
   "outputs": [],
   "source": [
    "df = merged_df.head(1000)\n",
    "# df.to_csv('cashflow/data_sample.csv')"
   ]
  },
  {
   "cell_type": "code",
   "execution_count": 39,
   "id": "a13f8d0e-9446-4f08-b815-3e21dbb2ea34",
   "metadata": {},
   "outputs": [
    {
     "data": {
      "text/plain": [
       "(17738083, 10)"
      ]
     },
     "execution_count": 39,
     "metadata": {},
     "output_type": "execute_result"
    }
   ],
   "source": [
    "merged_df.shape"
   ]
  },
  {
   "cell_type": "markdown",
   "id": "86850f55-ad7d-4afc-a46f-292d7f39d7b2",
   "metadata": {},
   "source": [
    "# Baseline Model (First Milestone)\n",
    "\n",
    "#### Prof/TA comments or questions (4/16/2024):\n",
    "1. Calculate loss in this\n",
    "2. Check the # of defaults per \"product\" segment and how it's performing across each segment\n",
    "3. AUC across each segment??\n",
    "4. Model might be slow so use standard scalar for numeric values to speed up computations\n",
    "5. Think of feature engineering per user basis (count of transactions per user, avg debit transaction amt , avg credit transaction amt )\n",
    "6. Increase max iterations in logistic regression (Current 1000)"
   ]
  },
  {
   "cell_type": "code",
   "execution_count": 40,
   "id": "77d40033-a873-43ee-8a18-b4cc6118ac81",
   "metadata": {},
   "outputs": [],
   "source": [
    "from sklearn.preprocessing import LabelEncoder\n",
    "from sklearn.model_selection import train_test_split\n",
    "from sklearn.svm import SVC\n",
    "from sklearn.metrics import classification_report\n",
    "from sklearn.linear_model import LogisticRegression"
   ]
  },
  {
   "cell_type": "markdown",
   "id": "b8e1733a-fcd7-44c9-a613-2ab881ee46ce",
   "metadata": {},
   "source": [
    "### Basic Features Engineering / Data Manipulation\n",
    "\n",
    "Done in a hurry to get to the baseline model, needs more work\n",
    "\n",
    "1. Transaction count per consumer\n",
    "2. Average Debit Amount per consumer\n",
    "3. Average Credit Amount per consumer\n",
    "4. Count of Debits per consumer\n",
    "5. Count of Credits per consumer\n",
    "6. Dropped Date Columns (Check how to encode dates), skipped for now\n",
    "7. Dropped rows with missing nulls\n",
    "8. Encoded text fields using label encoder"
   ]
  },
  {
   "cell_type": "code",
   "execution_count": 41,
   "id": "e3e0cf51-856e-4d8f-ab6f-fe6876e80953",
   "metadata": {},
   "outputs": [],
   "source": [
    "# Drop problematic columns (check how to encode dates)\n",
    "data = merged_df\n",
    "data = data.drop(columns=['posted_date', 'evaluation_date', 'description', 'code'])\n",
    "\n",
    "# Encode categorical variables\n",
    "label_encoder = LabelEncoder()\n",
    "data['product'] = data['masked_consumer_id'].apply(lambda x: x[:2])\n",
    "data['product'] = label_encoder.fit_transform(data['product'].astype(str))\n",
    "data['masked_transaction_id'] = label_encoder.fit_transform(data['masked_transaction_id'].astype(str))"
   ]
  },
  {
   "cell_type": "code",
   "execution_count": 42,
   "id": "5f695731-5b3c-4b59-a25f-f21c117d312c",
   "metadata": {},
   "outputs": [
    {
     "data": {
      "text/html": [
       "<div>\n",
       "<style scoped>\n",
       "    .dataframe tbody tr th:only-of-type {\n",
       "        vertical-align: middle;\n",
       "    }\n",
       "\n",
       "    .dataframe tbody tr th {\n",
       "        vertical-align: top;\n",
       "    }\n",
       "\n",
       "    .dataframe thead th {\n",
       "        text-align: right;\n",
       "    }\n",
       "</style>\n",
       "<table border=\"1\" class=\"dataframe\">\n",
       "  <thead>\n",
       "    <tr style=\"text-align: right;\">\n",
       "      <th></th>\n",
       "      <th>masked_consumer_id</th>\n",
       "      <th>transactions_count</th>\n",
       "      <th>average_debit_amount</th>\n",
       "      <th>average_credit_amount</th>\n",
       "      <th>count_of_credits</th>\n",
       "      <th>count_of_debits</th>\n",
       "    </tr>\n",
       "  </thead>\n",
       "  <tbody>\n",
       "    <tr>\n",
       "      <th>0</th>\n",
       "      <td>C01100001</td>\n",
       "      <td>2658</td>\n",
       "      <td>-121.317871</td>\n",
       "      <td>896.000841</td>\n",
       "      <td>309</td>\n",
       "      <td>2349</td>\n",
       "    </tr>\n",
       "    <tr>\n",
       "      <th>1</th>\n",
       "      <td>C01100002</td>\n",
       "      <td>2489</td>\n",
       "      <td>-135.926139</td>\n",
       "      <td>904.673323</td>\n",
       "      <td>316</td>\n",
       "      <td>2173</td>\n",
       "    </tr>\n",
       "    <tr>\n",
       "      <th>2</th>\n",
       "      <td>C01100003</td>\n",
       "      <td>663</td>\n",
       "      <td>-148.624964</td>\n",
       "      <td>758.367117</td>\n",
       "      <td>111</td>\n",
       "      <td>552</td>\n",
       "    </tr>\n",
       "    <tr>\n",
       "      <th>3</th>\n",
       "      <td>C01100004</td>\n",
       "      <td>1084</td>\n",
       "      <td>-151.145475</td>\n",
       "      <td>402.589339</td>\n",
       "      <td>242</td>\n",
       "      <td>842</td>\n",
       "    </tr>\n",
       "    <tr>\n",
       "      <th>4</th>\n",
       "      <td>C01100005</td>\n",
       "      <td>2412</td>\n",
       "      <td>-218.482202</td>\n",
       "      <td>787.787646</td>\n",
       "      <td>514</td>\n",
       "      <td>1898</td>\n",
       "    </tr>\n",
       "  </tbody>\n",
       "</table>\n",
       "</div>"
      ],
      "text/plain": [
       "  masked_consumer_id  transactions_count  average_debit_amount  \\\n",
       "0          C01100001                2658           -121.317871   \n",
       "1          C01100002                2489           -135.926139   \n",
       "2          C01100003                 663           -148.624964   \n",
       "3          C01100004                1084           -151.145475   \n",
       "4          C01100005                2412           -218.482202   \n",
       "\n",
       "   average_credit_amount  count_of_credits  count_of_debits  \n",
       "0             896.000841               309             2349  \n",
       "1             904.673323               316             2173  \n",
       "2             758.367117               111              552  \n",
       "3             402.589339               242              842  \n",
       "4             787.787646               514             1898  "
      ]
     },
     "execution_count": 42,
     "metadata": {},
     "output_type": "execute_result"
    }
   ],
   "source": [
    "is_credit = merged_df['amount'] > 0\n",
    "is_debit = merged_df['amount'] < 0\n",
    "\n",
    "# Create aggregations\n",
    "consumer_features = merged_df.groupby('masked_consumer_id').agg(\n",
    "    transactions_count=('masked_consumer_id', 'count'),\n",
    "    average_debit_amount=('amount', lambda x: x[is_debit].mean()),\n",
    "    average_credit_amount=('amount', lambda x: x[is_credit].mean()),\n",
    "    count_of_credits=('amount', lambda x: x[is_credit].count()),\n",
    "    count_of_debits=('amount', lambda x: x[is_debit].count())\n",
    ").reset_index()\n",
    "\n",
    "consumer_features.head()"
   ]
  },
  {
   "cell_type": "code",
   "execution_count": 43,
   "id": "0c19abe9-0553-434d-a52c-27d38e6bfdd0",
   "metadata": {},
   "outputs": [],
   "source": [
    "data = pd.merge(data, consumer_features, left_on='masked_consumer_id', right_on='masked_consumer_id', how='left')\n",
    "data['masked_consumer_id'] = label_encoder.fit_transform(data['masked_consumer_id'].astype(str))"
   ]
  },
  {
   "cell_type": "code",
   "execution_count": 44,
   "id": "edca2662-7747-4c35-a75a-cc78f79c025a",
   "metadata": {},
   "outputs": [
    {
     "data": {
      "text/html": [
       "<div>\n",
       "<style scoped>\n",
       "    .dataframe tbody tr th:only-of-type {\n",
       "        vertical-align: middle;\n",
       "    }\n",
       "\n",
       "    .dataframe tbody tr th {\n",
       "        vertical-align: top;\n",
       "    }\n",
       "\n",
       "    .dataframe thead th {\n",
       "        text-align: right;\n",
       "    }\n",
       "</style>\n",
       "<table border=\"1\" class=\"dataframe\">\n",
       "  <thead>\n",
       "    <tr style=\"text-align: right;\">\n",
       "      <th></th>\n",
       "      <th>masked_consumer_id</th>\n",
       "      <th>posted_date</th>\n",
       "      <th>amount</th>\n",
       "      <th>category</th>\n",
       "      <th>masked_transaction_id</th>\n",
       "      <th>code</th>\n",
       "      <th>description</th>\n",
       "      <th>evaluation_date</th>\n",
       "      <th>FPF_TARGET</th>\n",
       "      <th>total_balance</th>\n",
       "    </tr>\n",
       "  </thead>\n",
       "  <tbody>\n",
       "    <tr>\n",
       "      <th>0</th>\n",
       "      <td>C02103629</td>\n",
       "      <td>2022-08-12</td>\n",
       "      <td>-21.00</td>\n",
       "      <td>27.0</td>\n",
       "      <td>C02T02715977</td>\n",
       "      <td>27.0</td>\n",
       "      <td>HEALTHCARE_MEDICAL</td>\n",
       "      <td>2022-11-16</td>\n",
       "      <td>1.0</td>\n",
       "      <td>109.53</td>\n",
       "    </tr>\n",
       "    <tr>\n",
       "      <th>1</th>\n",
       "      <td>C02103629</td>\n",
       "      <td>2022-08-09</td>\n",
       "      <td>-8.60</td>\n",
       "      <td>22.0</td>\n",
       "      <td>C02T02715978</td>\n",
       "      <td>22.0</td>\n",
       "      <td>ESSENTIAL_SERVICES</td>\n",
       "      <td>2022-11-16</td>\n",
       "      <td>1.0</td>\n",
       "      <td>109.53</td>\n",
       "    </tr>\n",
       "    <tr>\n",
       "      <th>2</th>\n",
       "      <td>C02103629</td>\n",
       "      <td>2022-08-07</td>\n",
       "      <td>-30.05</td>\n",
       "      <td>16.0</td>\n",
       "      <td>C02T02715979</td>\n",
       "      <td>16.0</td>\n",
       "      <td>GENERAL_MERCHANDISE</td>\n",
       "      <td>2022-11-16</td>\n",
       "      <td>1.0</td>\n",
       "      <td>109.53</td>\n",
       "    </tr>\n",
       "    <tr>\n",
       "      <th>3</th>\n",
       "      <td>C02103629</td>\n",
       "      <td>2022-09-29</td>\n",
       "      <td>-0.46</td>\n",
       "      <td>0.0</td>\n",
       "      <td>C02T02715980</td>\n",
       "      <td>0.0</td>\n",
       "      <td>SELF_TRANSFER</td>\n",
       "      <td>2022-11-16</td>\n",
       "      <td>1.0</td>\n",
       "      <td>109.53</td>\n",
       "    </tr>\n",
       "    <tr>\n",
       "      <th>4</th>\n",
       "      <td>C02103629</td>\n",
       "      <td>2022-07-21</td>\n",
       "      <td>-50.00</td>\n",
       "      <td>12.0</td>\n",
       "      <td>C02T02715981</td>\n",
       "      <td>12.0</td>\n",
       "      <td>LOAN</td>\n",
       "      <td>2022-11-16</td>\n",
       "      <td>1.0</td>\n",
       "      <td>109.53</td>\n",
       "    </tr>\n",
       "  </tbody>\n",
       "</table>\n",
       "</div>"
      ],
      "text/plain": [
       "  masked_consumer_id posted_date  amount  category masked_transaction_id  \\\n",
       "0          C02103629  2022-08-12  -21.00      27.0          C02T02715977   \n",
       "1          C02103629  2022-08-09   -8.60      22.0          C02T02715978   \n",
       "2          C02103629  2022-08-07  -30.05      16.0          C02T02715979   \n",
       "3          C02103629  2022-09-29   -0.46       0.0          C02T02715980   \n",
       "4          C02103629  2022-07-21  -50.00      12.0          C02T02715981   \n",
       "\n",
       "   code          description evaluation_date  FPF_TARGET  total_balance  \n",
       "0  27.0   HEALTHCARE_MEDICAL      2022-11-16         1.0         109.53  \n",
       "1  22.0   ESSENTIAL_SERVICES      2022-11-16         1.0         109.53  \n",
       "2  16.0  GENERAL_MERCHANDISE      2022-11-16         1.0         109.53  \n",
       "3   0.0        SELF_TRANSFER      2022-11-16         1.0         109.53  \n",
       "4  12.0                 LOAN      2022-11-16         1.0         109.53  "
      ]
     },
     "execution_count": 44,
     "metadata": {},
     "output_type": "execute_result"
    }
   ],
   "source": [
    "merged_df.head()"
   ]
  },
  {
   "cell_type": "code",
   "execution_count": 45,
   "id": "adf1e6c6-d50a-4974-86fa-c2acb29fd34d",
   "metadata": {},
   "outputs": [
    {
     "data": {
      "text/html": [
       "<div>\n",
       "<style scoped>\n",
       "    .dataframe tbody tr th:only-of-type {\n",
       "        vertical-align: middle;\n",
       "    }\n",
       "\n",
       "    .dataframe tbody tr th {\n",
       "        vertical-align: top;\n",
       "    }\n",
       "\n",
       "    .dataframe thead th {\n",
       "        text-align: right;\n",
       "    }\n",
       "</style>\n",
       "<table border=\"1\" class=\"dataframe\">\n",
       "  <thead>\n",
       "    <tr style=\"text-align: right;\">\n",
       "      <th></th>\n",
       "      <th>masked_consumer_id</th>\n",
       "      <th>amount</th>\n",
       "      <th>category</th>\n",
       "      <th>masked_transaction_id</th>\n",
       "      <th>FPF_TARGET</th>\n",
       "      <th>total_balance</th>\n",
       "      <th>product</th>\n",
       "      <th>transactions_count</th>\n",
       "      <th>average_debit_amount</th>\n",
       "      <th>average_credit_amount</th>\n",
       "      <th>count_of_credits</th>\n",
       "      <th>count_of_debits</th>\n",
       "    </tr>\n",
       "  </thead>\n",
       "  <tbody>\n",
       "    <tr>\n",
       "      <th>0</th>\n",
       "      <td>6909</td>\n",
       "      <td>-21.00</td>\n",
       "      <td>27.0</td>\n",
       "      <td>6025240</td>\n",
       "      <td>1.0</td>\n",
       "      <td>109.53</td>\n",
       "      <td>0</td>\n",
       "      <td>672</td>\n",
       "      <td>-42.520075</td>\n",
       "      <td>165.738832</td>\n",
       "      <td>137</td>\n",
       "      <td>535</td>\n",
       "    </tr>\n",
       "    <tr>\n",
       "      <th>1</th>\n",
       "      <td>6909</td>\n",
       "      <td>-8.60</td>\n",
       "      <td>22.0</td>\n",
       "      <td>6025241</td>\n",
       "      <td>1.0</td>\n",
       "      <td>109.53</td>\n",
       "      <td>0</td>\n",
       "      <td>672</td>\n",
       "      <td>-42.520075</td>\n",
       "      <td>165.738832</td>\n",
       "      <td>137</td>\n",
       "      <td>535</td>\n",
       "    </tr>\n",
       "    <tr>\n",
       "      <th>2</th>\n",
       "      <td>6909</td>\n",
       "      <td>-30.05</td>\n",
       "      <td>16.0</td>\n",
       "      <td>6025242</td>\n",
       "      <td>1.0</td>\n",
       "      <td>109.53</td>\n",
       "      <td>0</td>\n",
       "      <td>672</td>\n",
       "      <td>-42.520075</td>\n",
       "      <td>165.738832</td>\n",
       "      <td>137</td>\n",
       "      <td>535</td>\n",
       "    </tr>\n",
       "    <tr>\n",
       "      <th>3</th>\n",
       "      <td>6909</td>\n",
       "      <td>-0.46</td>\n",
       "      <td>0.0</td>\n",
       "      <td>6025244</td>\n",
       "      <td>1.0</td>\n",
       "      <td>109.53</td>\n",
       "      <td>0</td>\n",
       "      <td>672</td>\n",
       "      <td>-42.520075</td>\n",
       "      <td>165.738832</td>\n",
       "      <td>137</td>\n",
       "      <td>535</td>\n",
       "    </tr>\n",
       "    <tr>\n",
       "      <th>4</th>\n",
       "      <td>6909</td>\n",
       "      <td>-50.00</td>\n",
       "      <td>12.0</td>\n",
       "      <td>6025245</td>\n",
       "      <td>1.0</td>\n",
       "      <td>109.53</td>\n",
       "      <td>0</td>\n",
       "      <td>672</td>\n",
       "      <td>-42.520075</td>\n",
       "      <td>165.738832</td>\n",
       "      <td>137</td>\n",
       "      <td>535</td>\n",
       "    </tr>\n",
       "  </tbody>\n",
       "</table>\n",
       "</div>"
      ],
      "text/plain": [
       "   masked_consumer_id  amount  category  masked_transaction_id  FPF_TARGET  \\\n",
       "0                6909  -21.00      27.0                6025240         1.0   \n",
       "1                6909   -8.60      22.0                6025241         1.0   \n",
       "2                6909  -30.05      16.0                6025242         1.0   \n",
       "3                6909   -0.46       0.0                6025244         1.0   \n",
       "4                6909  -50.00      12.0                6025245         1.0   \n",
       "\n",
       "   total_balance  product  transactions_count  average_debit_amount  \\\n",
       "0         109.53        0                 672            -42.520075   \n",
       "1         109.53        0                 672            -42.520075   \n",
       "2         109.53        0                 672            -42.520075   \n",
       "3         109.53        0                 672            -42.520075   \n",
       "4         109.53        0                 672            -42.520075   \n",
       "\n",
       "   average_credit_amount  count_of_credits  count_of_debits  \n",
       "0             165.738832               137              535  \n",
       "1             165.738832               137              535  \n",
       "2             165.738832               137              535  \n",
       "3             165.738832               137              535  \n",
       "4             165.738832               137              535  "
      ]
     },
     "execution_count": 45,
     "metadata": {},
     "output_type": "execute_result"
    }
   ],
   "source": [
    "data.head()"
   ]
  },
  {
   "cell_type": "markdown",
   "id": "388f4cf0-9c21-4ac9-b2f0-9a93bc3ddbb6",
   "metadata": {},
   "source": [
    "#### Only ~122 rows missing, dropping it for now"
   ]
  },
  {
   "cell_type": "code",
   "execution_count": 46,
   "id": "c9b1c57b-bcbf-4971-986f-cee569f1ea02",
   "metadata": {},
   "outputs": [
    {
     "data": {
      "text/plain": [
       "masked_consumer_id          0\n",
       "amount                    121\n",
       "category                  121\n",
       "masked_transaction_id       0\n",
       "FPF_TARGET                  0\n",
       "total_balance               1\n",
       "product                     0\n",
       "transactions_count          0\n",
       "average_debit_amount      182\n",
       "average_credit_amount    4295\n",
       "count_of_credits            0\n",
       "count_of_debits             0\n",
       "dtype: int64"
      ]
     },
     "execution_count": 46,
     "metadata": {},
     "output_type": "execute_result"
    }
   ],
   "source": [
    "# Check for missing values\n",
    "data.isnull().sum()"
   ]
  },
  {
   "cell_type": "code",
   "execution_count": 47,
   "id": "606e395c-63e0-4e11-8289-6cced35a77e9",
   "metadata": {},
   "outputs": [
    {
     "data": {
      "text/plain": [
       "(17733727, 12)"
      ]
     },
     "execution_count": 47,
     "metadata": {},
     "output_type": "execute_result"
    }
   ],
   "source": [
    "data = data.dropna()\n",
    "data.shape"
   ]
  },
  {
   "cell_type": "markdown",
   "id": "b5119943-3a77-48de-93e3-6d68e0751b92",
   "metadata": {},
   "source": [
    "#### Imputing X values (skipping right now)"
   ]
  },
  {
   "cell_type": "code",
   "execution_count": 48,
   "id": "83dc1280-002a-4a02-bfa7-3c815547afd3",
   "metadata": {},
   "outputs": [],
   "source": [
    "# from sklearn.pipeline import make_pipeline\n",
    "# from sklearn.impute import SimpleImputer\n",
    "\n",
    "# # Create a pipeline that includes imputation and the logistic regression model\n",
    "# pipeline = make_pipeline(\n",
    "#     SimpleImputer(strategy='mean'),  # Impute missing values with the mean of the column\n",
    "#     LogisticRegression(random_state=42, max_iter=1000)\n",
    "# )\n",
    "\n",
    "# # Fit the pipeline on the training data\n",
    "# pipeline.fit(X_train, y_train)\n",
    "\n",
    "# # Predict on the test set\n",
    "# y_pred_pipeline = pipeline.predict(X_test)\n",
    "\n",
    "# # Evaluate the model\n",
    "# classification_report_pipeline = classification_report(y_test, y_pred_pipeline)\n"
   ]
  },
  {
   "cell_type": "code",
   "execution_count": 49,
   "id": "6b2326fb-801c-488a-873c-44c2e6bda0ca",
   "metadata": {},
   "outputs": [],
   "source": [
    "# Split data into features and target\n",
    "X = data.drop('FPF_TARGET', axis=1)\n",
    "y = data['FPF_TARGET']\n",
    "\n",
    "# Split the dataset into train and test sets\n",
    "X_train, X_test, y_train, y_test = train_test_split(X, y, test_size=0.2, random_state=42)"
   ]
  },
  {
   "cell_type": "code",
   "execution_count": 50,
   "id": "cd912388-b426-4084-9a7a-66ec533b4cfd",
   "metadata": {},
   "outputs": [
    {
     "data": {
      "text/plain": [
       "LogisticRegression(max_iter=1000, random_state=42)"
      ]
     },
     "execution_count": 50,
     "metadata": {},
     "output_type": "execute_result"
    }
   ],
   "source": [
    "# Fit the Logistic Regression model on the cleaned dataset\n",
    "logistic_model = LogisticRegression(random_state=42, max_iter=1000)\n",
    "logistic_model.fit(X_train, y_train)"
   ]
  },
  {
   "cell_type": "code",
   "execution_count": 51,
   "id": "fc34b3b3-3cbb-40a6-af83-e89d0409f68d",
   "metadata": {},
   "outputs": [],
   "source": [
    "# Predict on the test set\n",
    "y_pred = logistic_model.predict(X_test)"
   ]
  },
  {
   "cell_type": "code",
   "execution_count": 52,
   "id": "982cd1b7-1b69-498b-9c1d-d8dc2f3250b0",
   "metadata": {},
   "outputs": [
    {
     "name": "stdout",
     "output_type": "stream",
     "text": [
      "              precision    recall  f1-score   support\n",
      "\n",
      "         0.0       0.89      1.00      0.94   3148971\n",
      "         1.0       0.00      0.00      0.00    397775\n",
      "\n",
      "    accuracy                           0.89   3546746\n",
      "   macro avg       0.44      0.50      0.47   3546746\n",
      "weighted avg       0.79      0.89      0.84   3546746\n",
      "\n"
     ]
    }
   ],
   "source": [
    "# Evaluate the model\n",
    "classification_report = classification_report(y_test, y_pred)\n",
    "print(classification_report)"
   ]
  },
  {
   "cell_type": "code",
   "execution_count": 53,
   "id": "52375e51-1f88-460f-b865-a30a2541da90",
   "metadata": {},
   "outputs": [
    {
     "name": "stdout",
     "output_type": "stream",
     "text": [
      "88.78191446469525\n"
     ]
    }
   ],
   "source": [
    "from sklearn.metrics import accuracy_score\n",
    "\n",
    "# Calculate accuracy\n",
    "accuracy = accuracy_score(y_test, y_pred) * 100\n",
    "\n",
    "print(accuracy)"
   ]
  },
  {
   "cell_type": "code",
   "execution_count": 54,
   "id": "b0d4462f-0d66-4381-ba1a-864f61d0700f",
   "metadata": {},
   "outputs": [
    {
     "data": {
      "text/plain": [
       "0.8087106648018073"
      ]
     },
     "execution_count": 54,
     "metadata": {},
     "output_type": "execute_result"
    }
   ],
   "source": [
    "from sklearn.metrics import roc_auc_score\n",
    "\n",
    "# Get predicted probabilities for the positive class (class label 1)\n",
    "y_probabilities = logistic_model.predict_proba(X_test)[:, 1]\n",
    "\n",
    "# Calculate AUC\n",
    "auc_score = roc_auc_score(y_test, y_probabilities)\n",
    "auc_score\n"
   ]
  },
  {
   "cell_type": "markdown",
   "id": "42ba4389-c7d2-4129-bde8-3254aaf9d685",
   "metadata": {},
   "source": [
    "## EDA (ignore for now)"
   ]
  },
  {
   "cell_type": "code",
   "execution_count": 55,
   "id": "44a6f5fe-259e-4ff2-aeb5-a5170a0cbd68",
   "metadata": {},
   "outputs": [
    {
     "data": {
      "image/png": "[encoded data removed]",
      "text/plain": [
       "<Figure size 1200x800 with 1 Axes>"
      ]
     },
     "metadata": {},
     "output_type": "display_data"
    },
    {
     "data": {
      "image/png": "[encoded data removed]",
      "text/plain": [
       "<Figure size 1000x800 with 2 Axes>"
      ]
     },
     "metadata": {},
     "output_type": "display_data"
    }
   ],
   "source": [
    "import matplotlib.pyplot as plt\n",
    "import seaborn as sns\n",
    "\n",
    "data = merged_df\n",
    "\n",
    "plt.figure(figsize=(12, 8))\n",
    "sns.countplot(y='description', hue='FPF_TARGET', data=data, palette='Set1')\n",
    "plt.title('Count of Descriptions by FPF_TARGET')\n",
    "plt.xlabel('Count')\n",
    "plt.ylabel('Description')\n",
    "plt.legend(title='FPF_TARGET')\n",
    "plt.tight_layout()\n",
    "plt.show()\n",
    "\n",
    "# Calculate the correlation matrix\n",
    "corr_data = data[['amount', 'category',\n",
    "       'code',\n",
    "       'FPF_TARGET', 'total_balance']]\n",
    "correlation_matrix = corr_data.corr()\n",
    "\n",
    "# Plot the correlation matrix using a heatmap\n",
    "plt.figure(figsize=(10, 8))\n",
    "sns.heatmap(correlation_matrix, annot=True, cmap='coolwarm', fmt=\".2f\")\n",
    "plt.title('Correlation Matrix with FPF_TARGET')\n",
    "plt.show()"
   ]
  },
  {
   "cell_type": "code",
   "execution_count": null,
   "id": "91799fe4-e645-4b3a-af4d-0f4f5856653f",
   "metadata": {},
   "outputs": [],
   "source": []
  },
  {
   "cell_type": "code",
   "execution_count": null,
   "id": "f4fc7021",
   "metadata": {},
   "outputs": [],
   "source": []
  }
 ],
 "metadata": {
  "kernelspec": {
   "display_name": "Python 3 (ipykernel)",
   "language": "python",
   "name": "python3"
  },
  "language_info": {
   "codemirror_mode": {
    "name": "ipython",
    "version": 3
   },
   "file_extension": ".py",
   "mimetype": "text/x-python",
   "name": "python",
   "nbconvert_exporter": "python",
   "pygments_lexer": "ipython3",
   "version": "3.9.13"
  }
 },
 "nbformat": 4,
 "nbformat_minor": 5
}
